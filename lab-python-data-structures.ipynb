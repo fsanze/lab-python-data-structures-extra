{
 "cells": [
  {
   "cell_type": "markdown",
   "metadata": {},
   "source": [
    "# Lab | Data Structures "
   ]
  },
  {
   "cell_type": "markdown",
   "metadata": {},
   "source": [
    "## Exercise 1: Working with Lists"
   ]
  },
  {
   "cell_type": "markdown",
   "metadata": {},
   "source": [
    "Imagine you are building a program for a teacher who wants to track the progress of their students throughout the semester. The teacher wants to input the grades of each student one by one, and get a summary of their performance. There are in total 5 students. You are tasked with building the program that will allow the teacher to do this easily.\n",
    "\n",
    "The program will prompt the teacher to enter the grades of each student. Once the teacher has entered all the grades, the program will calculate the total sum of the grades and display it on the screen. Then, the program will create a new list by selecting only the grades of the first, third, and fifth students entered by the teacher, and sort them in ascending order.\n",
    "\n",
    "Finally, the program will print out the new list, along with its length and the number of occurrences of the score 5 in the list. This will give the teacher a good overview of the performance of the selected students, and help them identify any potential issues early on."
   ]
  },
  {
   "cell_type": "markdown",
   "metadata": {},
   "source": [
    "*Hint:*\n",
    "- You can use the input() function to ask the user to enter their information.\n",
    "- Look for list methods to perform the tasks. \n",
    "- Remember, it is possible to get a part of the sequence using:\n",
    "\n",
    "    ```python\n",
    "    sequence[x:y:z]\n",
    "    ```\n",
    "    where x, y, z are integers.\n",
    "\n",
    "    The above returns a new sequence with the following characteristics:\n",
    "\n",
    "    - A sequence with the same type as the original (a slice of a list is a list, a slice of a tuple is a tuple, and a slice of a string is a string).\n",
    "    - A sequence with elements from `sequence [x]` to `sequence [y-1]` (does not include a sequence [y]). By skipping `z` elements each time, it can be omitted if ` z = 1`.\n"
   ]
  },
  {
   "cell_type": "markdown",
   "metadata": {},
   "source": [
    "*Recommended External Resources:*\n",
    "- *[Python Lists](https://www.w3schools.com/python/python_lists.asp)*\n",
    "- *[Python List Methods](https://www.w3schools.com/python/python_ref_list.asp)*\n",
    "- *[Python Built-in Functions](https://docs.python.org/3/library/functions.html)*\n"
   ]
  },
  {
   "cell_type": "code",
   "execution_count": 18,
   "metadata": {},
   "outputs": [
    {
     "name": "stdin",
     "output_type": "stream",
     "text": [
      "Please enter the grade of student 1 5\n",
      "Please enter the grade of student 2 3\n",
      "Please enter the grade of student 3 9\n",
      "Please enter the grade of student 4 1\n",
      "Please enter the grade of student 5 5\n"
     ]
    },
    {
     "name": "stdout",
     "output_type": "stream",
     "text": [
      "The sum of the grades is: 23.0.\n",
      "Grades: [5.0, 5.0, 9.0]. Length: 3. Number of 5s: 2\n"
     ]
    }
   ],
   "source": [
    "grades = []\n",
    "grades_sum = 0\n",
    "for i in range(5):\n",
    "    x = float(input(f\"Please enter the grade of student {i+1}\"))\n",
    "    grades_sum += x\n",
    "    grades.append(x)\n",
    "    \n",
    "print(f\"The sum of the grades is: {grades_sum}.\")\n",
    "\n",
    "new_grades = grades[::2]\n",
    "new_grades.sort()\n",
    "print(f\"Grades: {new_grades}. Length: {len(new_grades)}. Number of 5s: {new_grades.count(5)}\")"
   ]
  },
  {
   "cell_type": "markdown",
   "metadata": {},
   "source": [
    "## Exercise 2: Tuples"
   ]
  },
  {
   "cell_type": "markdown",
   "metadata": {},
   "source": [
    "Imagine you're running a fruit stand and want to keep track of your inventory. Write a Python program that does the following:\n",
    "\n",
    "- Initializes a tuple with 5 different types of fruit.\n",
    "- Outputs the first and last elements of the tuple, so you can see the full range of fruits the store offers.\n",
    "- Replaces the second element of the tuple with a new fruit that the store has recently received, and prints the updated tuple so you can see the changes.\n",
    "- Concatenates a new tuple containing 2 additional fruits to the original tuple, so you can add them to the store inventory, and prints the resulting tuple to see the updated inventory.\n",
    "- Splits the resulting tuple into 2 tuples of 3 elements each (the first tuple contains the first 3 elements, and the second tuple contains the last 3 elements), so you can organize the inventory more effectively.\n",
    "- Combines the 2 tuples from the previous step with the original tuple into a new tuple, and prints the resulting tuple and its length, so you can see the final inventory after all the changes."
   ]
  },
  {
   "cell_type": "markdown",
   "metadata": {},
   "source": [
    "*Recommended External Resources: [Python Tuples Examples and Methods](https://www.w3schools.com/python/python_tuples.asp)*\n",
    "\n"
   ]
  },
  {
   "cell_type": "code",
   "execution_count": 40,
   "metadata": {},
   "outputs": [
    {
     "name": "stdout",
     "output_type": "stream",
     "text": [
      "apple pear\n",
      "('apple', 'pineaple', 'kiwi', 'strawberry', 'pear')\n",
      "('apple', 'pineaple', 'kiwi', 'strawberry', 'pear', 'mango', 'orange')\n",
      "('apple', 'pineaple', 'kiwi')\n",
      "('strawberry', 'pear', 'mango')\n",
      "('apple', 'pineaple', 'kiwi', 'strawberry', 'pear', 'apple', 'pineaple', 'kiwi', 'strawberry', 'pear', 'mango')\n"
     ]
    }
   ],
   "source": [
    "fruits = (\"apple\", \"banana\", \"kiwi\", \"strawberry\", \"pear\")\n",
    "print(f\"{fruits[0]} {fruits[-1]}\")\n",
    "\n",
    "new_fruits = list(fruits)\n",
    "new_fruits[1] = \"pineaple\"\n",
    "\n",
    "fruits = tuple(new_fruits)\n",
    "print(fruits)\n",
    "\n",
    "other_fruits = (\"mango\", \"orange\")\n",
    "all_fruits = fruits + other_fruits\n",
    "print(all_fruits)\n",
    "\n",
    "new_tuple_1 = (all_fruits[0], all_fruits[1], all_fruits[2])\n",
    "print(new_tuple_1)\n",
    "\n",
    "new_tuple_2 = tuple([all_fruits[i] for i in range(3,6)])\n",
    "print(new_tuple_2)\n",
    "\n",
    "final_fruits = fruits + new_tuple_1 + new_tuple_2\n",
    "print(final_fruits)"
   ]
  },
  {
   "cell_type": "markdown",
   "metadata": {},
   "source": [
    "## Exercise 3: Sets"
   ]
  },
  {
   "cell_type": "markdown",
   "metadata": {},
   "source": [
    "Imagine you are a data analyst working for a literature museum. Your manager has given you two poems to analyze, and she wants you to write a Python program to extract useful information from them.\n",
    "\n",
    "Your program should:\n",
    "\n",
    "- Create two sets, one for each poem, containing all unique words in both poems (ignoring case and punctuation).\n",
    "- Print the number of unique words in each set.\n",
    "- Identify and print the unique words present in the first poem but not in the second one.\n",
    "- Identify and print the unique words present in the second poem but not in the first one.\n",
    "- Identify and print the unique words present in both poems and print it in alphabetical order."
   ]
  },
  {
   "cell_type": "markdown",
   "metadata": {},
   "source": [
    "*Recommended External Resources:*\n",
    "- *[Python Sets](https://www.w3schools.com/python/python_sets.asp)* \n",
    "- *[Python Set Methods](https://www.w3schools.com/python/python_ref_set.asp)*\n",
    "- *[Python String Methods](https://www.w3schools.com/python/python_ref_string.asp)*\n"
   ]
  },
  {
   "cell_type": "code",
   "execution_count": 44,
   "metadata": {},
   "outputs": [],
   "source": [
    "poem = \"\"\"Some say the world will end in fire,\n",
    "Some say in ice.\n",
    "From what I’ve tasted of desire\n",
    "I hold with those who favor fire.\n",
    "But if it had to perish twice,\n",
    "I think I know enough of hate\n",
    "To say that for destruction ice\n",
    "Is also great\n",
    "And would suffice.\"\"\"\n",
    "\n",
    "new_poem = \"\"\"Some say life is but a dream,\n",
    "Some say it's a test.\n",
    "From what I've seen and what I deem,\n",
    "I side with those who see it as a quest.\n",
    "\n",
    "But if it had to end today,\n",
    "I think I know enough of love,\n",
    "To say that though it fades away,\n",
    "It's still what we are made of.\"\"\""
   ]
  },
  {
   "cell_type": "code",
   "execution_count": 76,
   "metadata": {},
   "outputs": [
    {
     "name": "stdout",
     "output_type": "stream",
     "text": [
      "Poem has 41 unique words and new poem has 42 unique words.\n",
      "\n",
      "The words present in the first poem but not in the second one are: {'for', 'desire', 'i’ve', 'hate', 'great', 'destruction', 'twice', 'tasted', 'will', 'suffice', 'ice', 'would', 'world', 'the', 'favor', 'perish', 'in', 'hold', 'also', 'fire'}\n",
      "\n",
      "The words present in the second poem but not in the first one are: {'still', \"i've\", 'side', 'made', 'dream', 'test', \"it's\", 'a', 'we', 'deem', 'though', 'fades', 'love', 'see', 'today', 'life', 'quest', 'as', 'are', 'seen', 'away'}\n",
      "\n",
      "The words present in both poems are: ['and', 'but', 'end', 'enough', 'from', 'had', 'i', 'if', 'is', 'it', 'know', 'of', 'say', 'some', 'that', 'think', 'those', 'to', 'what', 'who', 'with']\n",
      "\n"
     ]
    }
   ],
   "source": [
    "set_1 = set()\n",
    "set_2 = set(new_poem.lower().replace(\".\", \"\").replace(\",\", \"\").split())\n",
    "\n",
    "poem_list = poem.lower().replace(\".\", \"\").replace(\",\", \"\").split()\n",
    "#print(poem_list)\n",
    "for word in poem_list:\n",
    "    set_1.add(word)\n",
    "\n",
    "#print(set_1)\n",
    "#print(set_2)\n",
    "\n",
    "print(f\"Poem has {len(set_1)} unique words and new poem has {len(set_2)} unique words.\\n\")\n",
    "\n",
    "poem_unique_words = set_1.difference(set_2)\n",
    "print(f\"The words present in the first poem but not in the second one are: {poem_unique_words}\\n\")\n",
    "\n",
    "new_poem_unique_words = set_2.difference(set_1)\n",
    "print(f\"The words present in the second poem but not in the first one are: {new_poem_unique_words}\\n\")\n",
    "\n",
    "words_both_poems = set_1.intersection(set_2)\n",
    "print(f\"The words present in both poems are: {sorted(words_both_poems)}\\n\")"
   ]
  },
  {
   "cell_type": "markdown",
   "metadata": {},
   "source": [
    "## Exercise 4: Dictionaries"
   ]
  },
  {
   "cell_type": "markdown",
   "metadata": {},
   "source": [
    "Consider the following dictionary of students with their scores in different subjects. One of the students, Bob, has complained about his score in Philosophy and, after reviewing it, the teacher has decided to update his score to 100. Write a Python program that updates Bob's score in Philosophy to 100 in the dictionary."
   ]
  },
  {
   "cell_type": "markdown",
   "metadata": {},
   "source": [
    "*Recommended External Resources: [Python Dictionary Examples and Methods](https://www.w3schools.com/python/python_dictionaries.asp)*\n"
   ]
  },
  {
   "cell_type": "code",
   "execution_count": 81,
   "metadata": {},
   "outputs": [],
   "source": [
    "grades = {'Alice': {'Physics': 75, 'Math': 85, 'Chemistry': 60, 'Philosophy': 90}, 'Bob': {'Physics': 75, 'Math': 85, 'Chemistry': 60, 'Philosophy': 90}}"
   ]
  },
  {
   "cell_type": "code",
   "execution_count": 83,
   "metadata": {},
   "outputs": [
    {
     "name": "stdout",
     "output_type": "stream",
     "text": [
      "{'Alice': {'Physics': 75, 'Math': 85, 'Chemistry': 60, 'Philosophy': 90}, 'Bob': {'Physics': 75, 'Math': 85, 'Chemistry': 60, 'Philosophy': 100}}\n"
     ]
    }
   ],
   "source": [
    "grades['Bob']['Philosophy'] = 100\n",
    "\n",
    "print(grades)"
   ]
  },
  {
   "cell_type": "markdown",
   "metadata": {},
   "source": [
    "## Bonus"
   ]
  },
  {
   "cell_type": "markdown",
   "metadata": {},
   "source": [
    "1. Below are the two lists. Write a Python program to convert them into a dictionary in a way that item from list1 is the key and item from list2 is the value."
   ]
  },
  {
   "cell_type": "markdown",
   "metadata": {},
   "source": [
    "*Hint: Use the zip() function. This function takes two or more iterables (like list, dict, string), aggregates them in a tuple, and returns it. Afterwards, you can use a function that turns a tuple into a dictionary.*"
   ]
  },
  {
   "cell_type": "markdown",
   "metadata": {},
   "source": [
    "*Recommended External Resources: [Python Zip Function](https://www.w3schools.com/python/ref_func_zip.asp)*\n"
   ]
  },
  {
   "cell_type": "code",
   "execution_count": 85,
   "metadata": {},
   "outputs": [
    {
     "name": "stdout",
     "output_type": "stream",
     "text": [
      "{'Physics': 75, 'Math': 85, 'Chemistry': 60, 'Philosophy': 90}\n"
     ]
    }
   ],
   "source": [
    "keys = ['Physics', 'Math', 'Chemistry', 'Philosophy']\n",
    "values = [75, 85, 60,90]\n",
    "grades={}\n",
    "for i in range(len(keys)):\n",
    "    grades[keys[i]] = values[i]\n",
    "print(grades)"
   ]
  },
  {
   "cell_type": "markdown",
   "metadata": {},
   "source": [
    "2. Get the subject with the minimum score from the previous dictionary."
   ]
  },
  {
   "cell_type": "markdown",
   "metadata": {},
   "source": [
    "*Hint: Use the built-in function min(). Read about the parameter key.*"
   ]
  },
  {
   "cell_type": "markdown",
   "metadata": {},
   "source": [
    "\n",
    "*Recommended External Resources:*\n",
    "- *[Python Min Function Official Documentation](https://docs.python.org/3.8/library/functions.html#min)*\n",
    "- *[How to use key function in max and min in Python](https://medium.com/analytics-vidhya/how-to-use-key-function-in-max-and-min-in-python-1fdbd661c59c)*"
   ]
  },
  {
   "cell_type": "code",
   "execution_count": 103,
   "metadata": {},
   "outputs": [
    {
     "name": "stdout",
     "output_type": "stream",
     "text": [
      "The subject with the minimum score is Chemistry with a score of 60\n"
     ]
    }
   ],
   "source": [
    "min_grade = min(grades.values())\n",
    "subject_name = []\n",
    "for subject, grade in grades.items():\n",
    "    if grade == min_grade:\n",
    "        subject_name = subject\n",
    "print(f\"The subject with the minimum score is {subject_name} with a score of {min_grade}\")"
   ]
  },
  {
   "cell_type": "code",
   "execution_count": null,
   "metadata": {},
   "outputs": [],
   "source": []
  }
 ],
 "metadata": {
  "kernelspec": {
   "display_name": "Python 3 (ipykernel)",
   "language": "python",
   "name": "python3"
  },
  "language_info": {
   "codemirror_mode": {
    "name": "ipython",
    "version": 3
   },
   "file_extension": ".py",
   "mimetype": "text/x-python",
   "name": "python",
   "nbconvert_exporter": "python",
   "pygments_lexer": "ipython3",
   "version": "3.12.4"
  }
 },
 "nbformat": 4,
 "nbformat_minor": 4
}
